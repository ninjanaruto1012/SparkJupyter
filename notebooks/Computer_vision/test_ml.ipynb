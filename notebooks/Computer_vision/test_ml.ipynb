{
 "cells": [
  {
   "cell_type": "code",
   "execution_count": 1,
   "id": "503c2d44",
   "metadata": {},
   "outputs": [],
   "source": [
    "import io\n",
    "import numpy as np\n",
    "import pandas as pd\n",
    "from pyspark.sql.functions import col, pandas_udf, regexp_extract\n",
    "from PIL import Image"
   ]
  },
  {
   "cell_type": "code",
   "execution_count": 2,
   "id": "c1e6920b",
   "metadata": {},
   "outputs": [
    {
     "name": "stderr",
     "output_type": "stream",
     "text": [
      "/usr/local/lib/python3.9/dist-packages/pyspark/bin/load-spark-env.sh: line 68: ps: command not found\n",
      "Warning: Ignoring non-Spark config property: executor.memory\n",
      "Setting default log level to \"WARN\".\n",
      "To adjust logging level use sc.setLogLevel(newLevel). For SparkR, use setLogLevel(newLevel).\n"
     ]
    },
    {
     "name": "stdout",
     "output_type": "stream",
     "text": [
      "24/02/01 01:15:22 WARN NativeCodeLoader: Unable to load native-hadoop library for your platform... using builtin-java classes where applicable\n"
     ]
    }
   ],
   "source": [
    "from pyspark.sql import SparkSession\n",
    "import pyspark.sql.functions as F\n",
    "from os.path import abspath\n",
    "import os\n",
    "\n",
    "# SparkSession\n",
    "URL_SPARK = \"spark://spark-master:7077\"\n",
    "warehouse_location = './spark-warehouse'\n",
    "\n",
    "spark = (\n",
    "    SparkSession.builder\n",
    "    .appName(\"spark-ml-multiVM\")\n",
    "    .config(\"executor.memory\", \"8g\")\n",
    "    .config(\"spark.sql.warehouse.dir\", warehouse_location)\n",
    "    .master(URL_SPARK)\n",
    "    .getOrCreate()\n",
    ")"
   ]
  },
  {
   "cell_type": "code",
   "execution_count": 3,
   "id": "e52a19d9",
   "metadata": {},
   "outputs": [],
   "source": [
    "images = spark.read.format(\"binaryFile\") \\\n",
    "            .option(\"recursiveFileLookup\", \"true\") \\\n",
    "            .option(\"pathGlobFilter\", \"*.jpg\") \\\n",
    "            .load(\"./data\")"
   ]
  },
  {
   "cell_type": "code",
   "execution_count": 4,
   "id": "07cfa377",
   "metadata": {},
   "outputs": [],
   "source": [
    "# images.count()"
   ]
  },
  {
   "cell_type": "code",
   "execution_count": 5,
   "id": "3608ac1e",
   "metadata": {},
   "outputs": [],
   "source": [
    "def extract_label(path_col):\n",
    "    return regexp_extract(path_col, \"flower_photo/([^/]+)\", 1)"
   ]
  },
  {
   "cell_type": "code",
   "execution_count": 6,
   "id": "d04de53a",
   "metadata": {},
   "outputs": [],
   "source": [
    "def extract_size(content):\n",
    "    image = Image.open(io.BytesIO(content))\n",
    "    return image.size"
   ]
  },
  {
   "cell_type": "code",
   "execution_count": 7,
   "id": "64f80530",
   "metadata": {},
   "outputs": [],
   "source": [
    "@pandas_udf(\"width: int, height: int\")\n",
    "def extract_size_udf(content_series):\n",
    "    sizes = content_series.apply(extract_size)\n",
    "    return pd.DataFrame(list(sizes))"
   ]
  },
  {
   "cell_type": "code",
   "execution_count": 8,
   "id": "f3047148",
   "metadata": {},
   "outputs": [],
   "source": [
    "df = images.select(\n",
    "    col(\"path\"),\n",
    "    extract_size_udf(col(\"content\")).alias(\"size\"),\n",
    "    extract_label(col(\"path\")).alias(\"label\"),\n",
    "    col(\"content\")\n",
    ")"
   ]
  },
  {
   "cell_type": "code",
   "execution_count": 9,
   "id": "b81b74eb",
   "metadata": {},
   "outputs": [],
   "source": [
    "# df.show(5)"
   ]
  },
  {
   "cell_type": "code",
   "execution_count": 10,
   "id": "ddde3ff3",
   "metadata": {},
   "outputs": [
    {
     "name": "stderr",
     "output_type": "stream",
     "text": [
      "2024-02-01 01:15:32.546822: E external/local_xla/xla/stream_executor/cuda/cuda_dnn.cc:9261] Unable to register cuDNN factory: Attempting to register factory for plugin cuDNN when one has already been registered\n",
      "2024-02-01 01:15:32.546930: E external/local_xla/xla/stream_executor/cuda/cuda_fft.cc:607] Unable to register cuFFT factory: Attempting to register factory for plugin cuFFT when one has already been registered\n",
      "2024-02-01 01:15:32.548136: E external/local_xla/xla/stream_executor/cuda/cuda_blas.cc:1515] Unable to register cuBLAS factory: Attempting to register factory for plugin cuBLAS when one has already been registered\n",
      "2024-02-01 01:15:32.557537: I tensorflow/core/platform/cpu_feature_guard.cc:182] This TensorFlow binary is optimized to use available CPU instructions in performance-critical operations.\n",
      "To enable the following instructions: AVX2 FMA, in other operations, rebuild TensorFlow with the appropriate compiler flags.\n",
      "2024-02-01 01:15:34.077388: W tensorflow/compiler/tf2tensorrt/utils/py_utils.cc:38] TF-TRT Warning: Could not find TensorRT\n"
     ]
    }
   ],
   "source": [
    "import io\n",
    " \n",
    "from tensorflow.keras.applications.imagenet_utils import decode_predictions\n",
    "import pandas as pd\n",
    "from pyspark.sql.functions import col, pandas_udf, PandasUDFType\n",
    "import torch\n",
    "from torch.utils.data import Dataset, DataLoader\n",
    "from torchvision import models, transforms\n",
    "from PIL import Image"
   ]
  },
  {
   "cell_type": "code",
   "execution_count": 11,
   "id": "271771ab",
   "metadata": {},
   "outputs": [],
   "source": [
    "class ImageNetDataset(Dataset):\n",
    "  \"\"\"\n",
    "  Converts image contents into a PyTorch Dataset with standard ImageNet preprocessing.\n",
    "  \"\"\"\n",
    "  def __init__(self, contents):\n",
    "    self.contents = contents\n",
    " \n",
    "  def __len__(self):\n",
    "    return len(self.contents)\n",
    " \n",
    "  def __getitem__(self, index):\n",
    "    return self._preprocess(self.contents[index])\n",
    " \n",
    "  def _preprocess(self, content):\n",
    "    \"\"\"\n",
    "    Preprocesses the input image content using standard ImageNet normalization.\n",
    "    \n",
    "    See https://pytorch.org/docs/stable/torchvision/models.html.\n",
    "    \"\"\"\n",
    "    image = Image.open(io.BytesIO(content))\n",
    "    transform = transforms.Compose([\n",
    "      transforms.Resize(256),\n",
    "      transforms.CenterCrop(224),\n",
    "      transforms.ToTensor(),\n",
    "      transforms.Normalize(mean=[0.485, 0.456, 0.406], std=[0.229, 0.224, 0.225]),\n",
    "    ])\n",
    "    return transform(image)"
   ]
  },
  {
   "cell_type": "code",
   "execution_count": 12,
   "id": "2bb8087c",
   "metadata": {},
   "outputs": [],
   "source": [
    "def imagenet_model_udf(model_fn):\n",
    "  \"\"\"\n",
    "  Wraps an ImageNet model into a Pandas UDF that makes predictions.\n",
    "  \n",
    "  You might consider the following customizations for your own use case:\n",
    "    - Tune DataLoader's batch_size and num_workers for better performance.\n",
    "    - Use GPU for acceleration.\n",
    "    - Change prediction types.\n",
    "  \"\"\"\n",
    "  def predict(content_series_iter):\n",
    "    model = model_fn()\n",
    "    model.eval()\n",
    "    for content_series in content_series_iter:\n",
    "      dataset = ImageNetDataset(list(content_series))\n",
    "      loader = DataLoader(dataset, batch_size=64)\n",
    "      with torch.no_grad():\n",
    "        for image_batch in loader:\n",
    "          predictions = model(image_batch).numpy()\n",
    "          predicted_labels = [x[0] for x in decode_predictions(predictions, top=1)]\n",
    "          yield pd.DataFrame(predicted_labels)\n",
    "  return_type = \"class: string, desc: string, score:float\"\n",
    "  return pandas_udf(return_type, PandasUDFType.SCALAR_ITER)(predict)"
   ]
  },
  {
   "cell_type": "code",
   "execution_count": 13,
   "id": "86d4d7ce",
   "metadata": {},
   "outputs": [
    {
     "name": "stderr",
     "output_type": "stream",
     "text": [
      "/usr/local/lib/python3.9/dist-packages/torchvision/models/_utils.py:208: UserWarning: The parameter 'pretrained' is deprecated since 0.13 and may be removed in the future, please use 'weights' instead.\n",
      "  warnings.warn(\n",
      "/usr/local/lib/python3.9/dist-packages/torchvision/models/_utils.py:223: UserWarning: Arguments other than a weight enum or `None` for 'weights' are deprecated since 0.13 and may be removed in the future. The current behavior is equivalent to passing `weights=ResNet50_Weights.IMAGENET1K_V1`. You can also use `weights=ResNet50_Weights.DEFAULT` to get the most up-to-date weights.\n",
      "  warnings.warn(msg)\n",
      "/usr/local/lib/python3.9/dist-packages/pyspark/sql/pandas/functions.py:394: UserWarning: In Python 3.6+ and Spark 3.0+, it is preferred to specify type hints for pandas UDF instead of specifying pandas UDF type which will be deprecated in the future releases. See SPARK-28264 for more details.\n",
      "  warnings.warn(\n"
     ]
    }
   ],
   "source": [
    "resnet50 = models.resnet50(pretrained=True)\n",
    "bc_resnet50_state = spark.sparkContext.broadcast(resnet50.state_dict())\n",
    "\n",
    "def resnet50_fn():\n",
    "    model = models.resnet50(pretrained=True)\n",
    "    model.load_state_dict(bc_resnet50_state.value)\n",
    "    return model\n",
    "\n",
    "resnet50_udf = imagenet_model_udf(resnet50_fn)"
   ]
  },
  {
   "cell_type": "code",
   "execution_count": 14,
   "id": "b0c83b87",
   "metadata": {},
   "outputs": [],
   "source": [
    "my_image = df.limit(5)\n",
    "predictions = my_image.withColumn(\"prediction\", resnet50_udf(col(\"content\")))"
   ]
  },
  {
   "cell_type": "code",
   "execution_count": 15,
   "id": "17019f2a",
   "metadata": {},
   "outputs": [
    {
     "name": "stderr",
     "output_type": "stream",
     "text": [
      "                                                                                \r"
     ]
    },
    {
     "name": "stdout",
     "output_type": "stream",
     "text": [
      "+--------------------+----------+-----+--------------------+--------------------+\n",
      "|                path|      size|label|             content|          prediction|\n",
      "+--------------------+----------+-----+--------------------+--------------------+\n",
      "|file:/opt/workspa...|{500, 441}|     |[FF D8 FF E0 00 1...|{n11939491, daisy...|\n",
      "|file:/opt/workspa...|{500, 333}|     |[FF D8 FF E0 00 1...|{n02206856, bee, ...|\n",
      "|file:/opt/workspa...|{500, 333}|     |[FF D8 FF E0 00 1...|{n03837869, obeli...|\n",
      "|file:/opt/workspa...|{500, 290}|     |[FF D8 FF E0 00 1...|{n11939491, daisy...|\n",
      "|file:/opt/workspa...|{500, 322}|     |[FF D8 FF E0 00 1...|{n03134739, croqu...|\n",
      "+--------------------+----------+-----+--------------------+--------------------+\n",
      "\n"
     ]
    }
   ],
   "source": [
    "predictions.show()"
   ]
  },
  {
   "cell_type": "code",
   "execution_count": null,
   "id": "e17f8e1a",
   "metadata": {},
   "outputs": [],
   "source": []
  }
 ],
 "metadata": {
  "kernelspec": {
   "display_name": "Python 3 (ipykernel)",
   "language": "python",
   "name": "python3"
  },
  "language_info": {
   "codemirror_mode": {
    "name": "ipython",
    "version": 3
   },
   "file_extension": ".py",
   "mimetype": "text/x-python",
   "name": "python",
   "nbconvert_exporter": "python",
   "pygments_lexer": "ipython3",
   "version": "3.9.2"
  }
 },
 "nbformat": 4,
 "nbformat_minor": 5
}
