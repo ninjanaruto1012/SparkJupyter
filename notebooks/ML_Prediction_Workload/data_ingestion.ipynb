{
 "cells": [
  {
   "cell_type": "markdown",
   "id": "822caf12",
   "metadata": {},
   "source": [
    "# Init\n",
    "\n",
    "Create a spark instance by connecting to the spark master"
   ]
  },
  {
   "cell_type": "code",
   "execution_count": 6,
   "id": "6c870d10",
   "metadata": {},
   "outputs": [],
   "source": [
    "from pyspark.sql import SparkSession\n",
    "import pyspark.sql.functions as F\n",
    "from os.path import abspath\n",
    "\n",
    "# SparkSession\n",
    "URL_SPARK = \"spark://spark-master:7077\"\n",
    "warehouse_location = abspath('spark-warehouse')\n",
    "\n",
    "spark = (\n",
    "    SparkSession.builder\n",
    "    .appName(\"spark-ml\")\n",
    "    .config(\"executor.memory\", \"8g\")\n",
    "    .config(\"spark.sql.warehouse.dir\", warehouse_location)\n",
    "    .master(URL_SPARK)\n",
    "    .getOrCreate()\n",
    ")"
   ]
  },
  {
   "cell_type": "markdown",
   "id": "0e02edbc",
   "metadata": {},
   "source": [
    "# Raw data \n",
    "\n",
    "Load data from a file at path \"./raw_mon_data/mon-vm.log\" which collects \n",
    "- Timestamp\n",
    "- Memory\n",
    "- CPU\n",
    "- Storage\n",
    "\n",
    "into a dataframe "
   ]
  },
  {
   "cell_type": "code",
   "execution_count": 7,
   "id": "eda19280",
   "metadata": {
    "scrolled": true
   },
   "outputs": [
    {
     "name": "stdout",
     "output_type": "stream",
     "text": [
      "root\n",
      " |-- value: string (nullable = true)\n",
      "\n"
     ]
    }
   ],
   "source": [
    "path = \"./raw_mon_data/mon-vm.log\"\n",
    "df = spark.read.text(path)\n",
    "df.printSchema()"
   ]
  },
  {
   "cell_type": "code",
   "execution_count": 8,
   "id": "4b7539a4",
   "metadata": {},
   "outputs": [
    {
     "name": "stdout",
     "output_type": "stream",
     "text": [
      "root\n",
      " |-- timestamp: string (nullable = true)\n",
      " |-- cpu: string (nullable = true)\n",
      " |-- memory: string (nullable = true)\n",
      " |-- storage: string (nullable = true)\n",
      "\n"
     ]
    },
    {
     "name": "stderr",
     "output_type": "stream",
     "text": [
      "                                                                                \r"
     ]
    },
    {
     "data": {
      "text/plain": [
       "1381"
      ]
     },
     "execution_count": 8,
     "metadata": {},
     "output_type": "execute_result"
    },
    {
     "name": "stderr",
     "output_type": "stream",
     "text": [
      "\r",
      "[Stage 3:>                                                          (0 + 1) / 1]\r"
     ]
    }
   ],
   "source": [
    "from pyspark.sql.functions import *\n",
    "\n",
    "df1 = df.withColumn('timestamp', regexp_extract('value', r'timestamp:\\s(.*),\\sused_memory', 1)) \\\n",
    "        .withColumn('cpu', regexp_extract('value', r'used_cpu:\\s(.*)\\%', 1)) \\\n",
    "        .withColumn('memory', regexp_extract('value', r'used_memory:\\s(.*)\\%\\s+,\\sused_storage', 1)) \\\n",
    "        .withColumn('storage', regexp_extract('value', r'used_storage:\\s(.*)\\%\\s+,\\sused_cpu', 1))\n",
    "\n",
    "df2 = df1.drop('value')\n",
    "df2.printSchema()\n",
    "df2.count()"
   ]
  },
  {
   "cell_type": "code",
   "execution_count": 14,
   "id": "a24eeb29",
   "metadata": {},
   "outputs": [
    {
     "data": {
      "text/plain": [
       "DataFrame[]"
      ]
     },
     "execution_count": 14,
     "metadata": {},
     "output_type": "execute_result"
    }
   ],
   "source": [
    "spark.sql(\"CREATE DATABASE IF NOT EXISTS mondb1\")"
   ]
  },
  {
   "cell_type": "code",
   "execution_count": 15,
   "id": "dfab8936",
   "metadata": {},
   "outputs": [
    {
     "name": "stderr",
     "output_type": "stream",
     "text": [
      "[Stage 3:>                                                          (0 + 1) / 1]\r"
     ]
    }
   ],
   "source": [
    "df2.write.mode('overwrite').saveAsTable(\"mondb1.silver_mon\")"
   ]
  },
  {
   "cell_type": "code",
   "execution_count": 16,
   "id": "9fba2bf7",
   "metadata": {},
   "outputs": [],
   "source": [
    "my_df = spark.sql('SELECT * FROM mondb1.silver_mon')"
   ]
  },
  {
   "cell_type": "code",
   "execution_count": 17,
   "id": "114c772b",
   "metadata": {},
   "outputs": [
    {
     "name": "stdout",
     "output_type": "stream",
     "text": [
      "+--------------------+----+------+-------+\n",
      "|           timestamp| cpu|memory|storage|\n",
      "+--------------------+----+------+-------+\n",
      "|06-06-23 07:52:17 PM|0.12| 36.06|     25|\n",
      "|06-06-23 07:52:22 PM|0.11| 35.99|     25|\n",
      "|06-06-23 07:52:27 PM|0.10| 35.99|     25|\n",
      "|06-06-23 07:52:40 PM|0.09| 35.98|     25|\n",
      "|06-06-23 07:52:45 PM|0.07| 35.98|     25|\n",
      "|06-06-23 07:52:50 PM|0.07| 35.97|     25|\n",
      "|06-06-23 07:52:55 PM|0.06| 36.03|     25|\n",
      "|06-06-23 07:53:00 PM|0.06| 35.99|     25|\n",
      "|06-06-23 07:53:06 PM|0.05| 35.99|     25|\n",
      "|06-06-23 07:53:11 PM|0.05| 35.99|     25|\n",
      "|06-06-23 07:53:16 PM|0.04| 35.99|     25|\n",
      "|06-06-23 07:53:21 PM|0.04| 35.99|     25|\n",
      "|06-06-23 07:53:26 PM|0.04| 35.99|     25|\n",
      "|06-06-23 07:53:32 PM|0.03| 35.99|     25|\n",
      "|06-06-23 07:53:37 PM|0.03| 35.99|     25|\n",
      "|06-06-23 07:53:42 PM|0.03| 35.99|     25|\n",
      "|06-06-23 07:53:47 PM|0.02| 35.99|     25|\n",
      "|06-06-23 07:53:52 PM|0.02| 35.99|     25|\n",
      "|06-06-23 07:53:58 PM|0.02| 35.99|     25|\n",
      "|06-06-23 07:54:03 PM|0.02| 35.99|     25|\n",
      "+--------------------+----+------+-------+\n",
      "only showing top 20 rows\n",
      "\n"
     ]
    },
    {
     "name": "stderr",
     "output_type": "stream",
     "text": [
      "[Stage 3:>                                                          (0 + 1) / 1]\r"
     ]
    }
   ],
   "source": [
    "my_df.show()"
   ]
  },
  {
   "cell_type": "code",
   "execution_count": 19,
   "id": "6fc3f25b",
   "metadata": {},
   "outputs": [],
   "source": [
    "exit()"
   ]
  }
 ],
 "metadata": {
  "kernelspec": {
   "display_name": "Python 3 (ipykernel)",
   "language": "python",
   "name": "python3"
  },
  "language_info": {
   "codemirror_mode": {
    "name": "ipython",
    "version": 3
   },
   "file_extension": ".py",
   "mimetype": "text/x-python",
   "name": "python",
   "nbconvert_exporter": "python",
   "pygments_lexer": "ipython3",
   "version": "3.9.2"
  }
 },
 "nbformat": 4,
 "nbformat_minor": 5
}
