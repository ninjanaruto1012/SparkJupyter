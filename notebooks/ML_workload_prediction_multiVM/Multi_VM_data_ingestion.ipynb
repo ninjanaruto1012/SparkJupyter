{
 "cells": [
  {
   "cell_type": "markdown",
   "id": "e3c8e0ce",
   "metadata": {},
   "source": [
    "# Init the Spark session"
   ]
  },
  {
   "cell_type": "code",
   "execution_count": 1,
   "id": "5e7f41f1",
   "metadata": {},
   "outputs": [
    {
     "name": "stderr",
     "output_type": "stream",
     "text": [
      "/usr/local/lib/python3.9/dist-packages/pyspark/bin/load-spark-env.sh: line 68: ps: command not found\n",
      "Warning: Ignoring non-Spark config property: executor.memory\n",
      "Using Spark's default log4j profile: org/apache/spark/log4j-defaults.properties\n",
      "Setting default log level to \"WARN\".\n",
      "To adjust logging level use sc.setLogLevel(newLevel). For SparkR, use setLogLevel(newLevel).\n",
      "23/06/21 20:09:13 WARN NativeCodeLoader: Unable to load native-hadoop library for your platform... using builtin-java classes where applicable\n"
     ]
    }
   ],
   "source": [
    "from pyspark.sql import SparkSession\n",
    "import pyspark.sql.functions as F\n",
    "from os.path import abspath\n",
    "import os\n",
    "\n",
    "# SparkSession\n",
    "URL_SPARK = \"spark://spark-master:7077\"\n",
    "warehouse_location = './spark-warehouse'\n",
    "\n",
    "spark = (\n",
    "    SparkSession.builder\n",
    "    .appName(\"spark-ml-multiVM\")\n",
    "    .config(\"executor.memory\", \"8g\")\n",
    "    .config(\"spark.sql.warehouse.dir\", warehouse_location)\n",
    "    .master(URL_SPARK)\n",
    "    .getOrCreate()\n",
    ")"
   ]
  },
  {
   "cell_type": "markdown",
   "id": "d6ebffed",
   "metadata": {},
   "source": [
    "# Load data log of VM 1\n",
    "- Note that this VM was a VM hosting my programs."
   ]
  },
  {
   "cell_type": "code",
   "execution_count": 2,
   "id": "66dc4dea",
   "metadata": {},
   "outputs": [
    {
     "name": "stdout",
     "output_type": "stream",
     "text": [
      "root\n",
      " |-- value: string (nullable = true)\n",
      "\n"
     ]
    }
   ],
   "source": [
    "path = \"./raw_data_VM_1/mon-vm.log\"\n",
    "df1 = spark.read.text(path)\n",
    "df1.printSchema()"
   ]
  },
  {
   "cell_type": "code",
   "execution_count": 3,
   "id": "9868cb4c",
   "metadata": {},
   "outputs": [
    {
     "name": "stdout",
     "output_type": "stream",
     "text": [
      "root\n",
      " |-- timestamp: string (nullable = true)\n",
      " |-- cpu: string (nullable = true)\n",
      " |-- memory: string (nullable = true)\n",
      " |-- storage: string (nullable = true)\n",
      "\n"
     ]
    },
    {
     "name": "stderr",
     "output_type": "stream",
     "text": [
      "                                                                                \r"
     ]
    },
    {
     "data": {
      "text/plain": [
       "18803"
      ]
     },
     "execution_count": 3,
     "metadata": {},
     "output_type": "execute_result"
    }
   ],
   "source": [
    "from pyspark.sql.functions import *\n",
    "\n",
    "df_1 = df1.withColumn('timestamp', regexp_extract('value', r'timestamp:\\s(.*),\\sused_memory', 1)) \\\n",
    "        .withColumn('cpu', regexp_extract('value', r'used_cpu:\\s(.*)\\%', 1)) \\\n",
    "        .withColumn('memory', regexp_extract('value', r'used_memory:\\s(.*)\\%\\s+,\\sused_storage', 1)) \\\n",
    "        .withColumn('storage', regexp_extract('value', r'used_storage:\\s(.*)\\%\\s+,\\sused_cpu', 1))\n",
    "\n",
    "df_1 = df_1.drop('value')\n",
    "df_1.printSchema()\n",
    "df_1.count()"
   ]
  },
  {
   "cell_type": "code",
   "execution_count": 4,
   "id": "380389f2",
   "metadata": {},
   "outputs": [
    {
     "name": "stderr",
     "output_type": "stream",
     "text": [
      "                                                                                \r"
     ]
    },
    {
     "name": "stdout",
     "output_type": "stream",
     "text": [
      "+-------+--------------------+-------------------+------------------+-----------------+\n",
      "|summary|           timestamp|                cpu|            memory|          storage|\n",
      "+-------+--------------------+-------------------+------------------+-----------------+\n",
      "|  count|               18803|              18803|             18803|            18803|\n",
      "|   mean|                null| 0.1728851778971414| 39.37673562729289|41.37637611019518|\n",
      "| stddev|                null|0.17198840557713962|4.0126939020432015|5.834714976312954|\n",
      "|    min|06-06-23 07:52:17 PM|               0.00|             20.92|               25|\n",
      "|    25%|                null|               0.07|             35.72|             37.0|\n",
      "|    50%|                null|               0.14|             41.78|             45.0|\n",
      "|    75%|                null|               0.22|             42.54|             45.0|\n",
      "|    max|21-06-23 12:59:12 AM|               3.13|             44.56|               46|\n",
      "+-------+--------------------+-------------------+------------------+-----------------+\n",
      "\n"
     ]
    }
   ],
   "source": [
    "df_1.summary().show()"
   ]
  },
  {
   "cell_type": "code",
   "execution_count": 5,
   "id": "c84d7489",
   "metadata": {},
   "outputs": [
    {
     "data": {
      "text/plain": [
       "DataFrame[]"
      ]
     },
     "execution_count": 5,
     "metadata": {},
     "output_type": "execute_result"
    }
   ],
   "source": [
    "spark.sql(\"CREATE DATABASE IF NOT EXISTS mondb\")"
   ]
  },
  {
   "cell_type": "code",
   "execution_count": 7,
   "id": "f34493e4",
   "metadata": {},
   "outputs": [
    {
     "name": "stderr",
     "output_type": "stream",
     "text": [
      "                                                                                \r"
     ]
    }
   ],
   "source": [
    "df_1.write.mode('overwrite').saveAsTable(\"mondb.bronze_vmlog_acumos\")"
   ]
  },
  {
   "cell_type": "code",
   "execution_count": 8,
   "id": "e8dd2278",
   "metadata": {},
   "outputs": [],
   "source": [
    "my_df = spark.sql('SELECT * FROM mondb.bronze_vmlog_acumos')"
   ]
  },
  {
   "cell_type": "markdown",
   "id": "386e7644",
   "metadata": {},
   "source": [
    "# Load data log of VM Maas-Controller"
   ]
  },
  {
   "cell_type": "code",
   "execution_count": 9,
   "id": "5881d0d9",
   "metadata": {},
   "outputs": [
    {
     "name": "stdout",
     "output_type": "stream",
     "text": [
      "root\n",
      " |-- value: string (nullable = true)\n",
      "\n"
     ]
    }
   ],
   "source": [
    "path2 = \"./raw_data_VM_MaasController/mon-vm.log\"\n",
    "df2 = spark.read.text(path2)\n",
    "df2.printSchema()"
   ]
  },
  {
   "cell_type": "code",
   "execution_count": 10,
   "id": "cf44cbd7",
   "metadata": {},
   "outputs": [
    {
     "name": "stdout",
     "output_type": "stream",
     "text": [
      "root\n",
      " |-- timestamp: string (nullable = true)\n",
      " |-- cpu: string (nullable = true)\n",
      " |-- memory: string (nullable = true)\n",
      " |-- storage: string (nullable = true)\n",
      "\n"
     ]
    },
    {
     "data": {
      "text/plain": [
       "2500"
      ]
     },
     "execution_count": 10,
     "metadata": {},
     "output_type": "execute_result"
    }
   ],
   "source": [
    "df_maas_controller = df2.withColumn('timestamp', regexp_extract('value', r'timestamp:\\s(.*),\\sused_memory', 1)) \\\n",
    "        .withColumn('cpu', regexp_extract('value', r'used_cpu:\\s(.*)\\%', 1)) \\\n",
    "        .withColumn('memory', regexp_extract('value', r'used_memory:\\s(.*)\\%\\s+,\\sused_storage', 1)) \\\n",
    "        .withColumn('storage', regexp_extract('value', r'used_storage:\\s(.*)\\%\\s+,\\sused_cpu', 1))\n",
    "\n",
    "df_maas_controller = df_maas_controller.drop('value')\n",
    "df_maas_controller.printSchema()\n",
    "df_maas_controller.count()"
   ]
  },
  {
   "cell_type": "code",
   "execution_count": 11,
   "id": "b6969207",
   "metadata": {},
   "outputs": [
    {
     "name": "stdout",
     "output_type": "stream",
     "text": [
      "+-------+--------------------+-------------------+--------------------+-------+\n",
      "|summary|           timestamp|                cpu|              memory|storage|\n",
      "+-------+--------------------+-------------------+--------------------+-------+\n",
      "|  count|                2500|               2500|                2500|   2500|\n",
      "|   mean|                null|0.04114800000000018|  15.197000000000061|   86.0|\n",
      "| stddev|                null|0.07814988840697848|0.048224581326311994|    0.0|\n",
      "|    min|19-06-23 01:52:26 PM|               0.00|               15.12|     86|\n",
      "|    25%|                null|                0.0|               15.16|   86.0|\n",
      "|    50%|                null|               0.01|               15.18|   86.0|\n",
      "|    75%|                null|               0.05|               15.22|   86.0|\n",
      "|    max|21-06-23 12:59:44 AM|               0.97|               15.46|     86|\n",
      "+-------+--------------------+-------------------+--------------------+-------+\n",
      "\n"
     ]
    }
   ],
   "source": [
    "df_maas_controller.summary().show()"
   ]
  },
  {
   "cell_type": "code",
   "execution_count": 13,
   "id": "e9517a8e",
   "metadata": {},
   "outputs": [
    {
     "name": "stderr",
     "output_type": "stream",
     "text": [
      "                                                                                \r"
     ]
    }
   ],
   "source": [
    "df_maas_controller.write.mode('overwrite').saveAsTable(\"mondb.bronze_vmlog_maas_controller\")"
   ]
  },
  {
   "cell_type": "markdown",
   "id": "7c8824b4",
   "metadata": {},
   "source": [
    "# Combine two time series into one multivariate time series"
   ]
  },
  {
   "cell_type": "code",
   "execution_count": 14,
   "id": "f255a6ee",
   "metadata": {},
   "outputs": [
    {
     "name": "stderr",
     "output_type": "stream",
     "text": [
      "/usr/local/lib/python3.9/dist-packages/pyspark/pandas/__init__.py:47: UserWarning: 'PYARROW_IGNORE_TIMEZONE' environment variable was not set. It is required to set this environment variable to '1' in both driver and executor sides if you use pyarrow>=2.0.0. pandas-on-Spark will set it for you but it does not work if there is a Spark context already launched.\n",
      "  warnings.warn(\n"
     ]
    }
   ],
   "source": [
    "import pyspark\n",
    "import pyspark.pandas as ps\n",
    "import pandas as pd\n",
    "\n",
    "#convert spark dataframe to pandas for more visualization\n",
    "pd_df_vm1 =  df_1.toPandas()\n",
    "pd_df_vm2 = df_maas_controller.toPandas() "
   ]
  },
  {
   "cell_type": "code",
   "execution_count": 15,
   "id": "cb4f2b90",
   "metadata": {},
   "outputs": [],
   "source": [
    "pd_df_vm1['timestamp'] = pd.to_datetime(pd_df_vm1['timestamp'],format='%d-%m-%y %I:%M:%S %p').dt.strftime('%Y-%m-%d %H:%M:%S')\n",
    "pd_df_vm1['timestamp'] = pd.to_datetime(pd_df_vm1['timestamp'])\n",
    "pd_df_vm1.apply(pd.to_numeric, errors='ignore')\n",
    "pd_df_vm1.set_index('timestamp',inplace=True)"
   ]
  },
  {
   "cell_type": "code",
   "execution_count": 16,
   "id": "fe52463f",
   "metadata": {},
   "outputs": [],
   "source": [
    "pd_df_vm1['cpu'] = pd_df_vm1['cpu'].astype('float')\n",
    "pd_df_vm1['memory'] = pd_df_vm1['memory'].astype('float')\n",
    "pd_df_vm1['storage'] = pd_df_vm1['storage'].astype('float')"
   ]
  },
  {
   "cell_type": "code",
   "execution_count": 17,
   "id": "379ed7a5",
   "metadata": {},
   "outputs": [
    {
     "data": {
      "text/plain": [
       "Text(0.5, 1.0, 'Workload Features VM1')"
      ]
     },
     "execution_count": 17,
     "metadata": {},
     "output_type": "execute_result"
    },
    {
     "data": {
      "image/png": "[encoded data removed]",
      "text/plain": [
       "<Figure size 640x480 with 1 Axes>"
      ]
     },
     "metadata": {},
     "output_type": "display_data"
    }
   ],
   "source": [
    "import matplotlib.pyplot as plt\n",
    "\n",
    "plt.plot(pd_df_vm1['cpu'])\n",
    "plt.plot(pd_df_vm1['memory'])\n",
    "plt.plot(pd_df_vm1['storage'])\n",
    "plt.xlabel('Time')\n",
    "plt.ylabel('Percent')\n",
    "plt.legend(['cpu','memory','storage'])\n",
    "plt.title('Workload Features VM1')"
   ]
  },
  {
   "cell_type": "code",
   "execution_count": 18,
   "id": "3e13e9b6",
   "metadata": {},
   "outputs": [],
   "source": [
    "pd_df_vm2['timestamp'] = pd.to_datetime(pd_df_vm2['timestamp'],format='%d-%m-%y %I:%M:%S %p').dt.strftime('%Y-%m-%d %H:%M:%S')\n",
    "pd_df_vm2['timestamp'] = pd.to_datetime(pd_df_vm2['timestamp'])\n",
    "pd_df_vm2.apply(pd.to_numeric, errors='ignore')\n",
    "pd_df_vm2.set_index('timestamp',inplace=True)\n",
    "pd_df_vm2['cpu'] = pd_df_vm2['cpu'].astype('float')\n",
    "pd_df_vm2['memory'] = pd_df_vm2['memory'].astype('float')\n",
    "pd_df_vm2['storage'] = pd_df_vm2['storage'].astype('float')"
   ]
  },
  {
   "cell_type": "code",
   "execution_count": 19,
   "id": "de3fa0bb",
   "metadata": {},
   "outputs": [
    {
     "data": {
      "text/html": [
       "<div>\n",
       "<style scoped>\n",
       "    .dataframe tbody tr th:only-of-type {\n",
       "        vertical-align: middle;\n",
       "    }\n",
       "\n",
       "    .dataframe tbody tr th {\n",
       "        vertical-align: top;\n",
       "    }\n",
       "\n",
       "    .dataframe thead th {\n",
       "        text-align: right;\n",
       "    }\n",
       "</style>\n",
       "<table border=\"1\" class=\"dataframe\">\n",
       "  <thead>\n",
       "    <tr style=\"text-align: right;\">\n",
       "      <th></th>\n",
       "      <th>cpu</th>\n",
       "      <th>memory</th>\n",
       "      <th>storage</th>\n",
       "    </tr>\n",
       "    <tr>\n",
       "      <th>timestamp</th>\n",
       "      <th></th>\n",
       "      <th></th>\n",
       "      <th></th>\n",
       "    </tr>\n",
       "  </thead>\n",
       "  <tbody>\n",
       "    <tr>\n",
       "      <th>2023-06-19 13:52:26</th>\n",
       "      <td>0.00</td>\n",
       "      <td>15.18</td>\n",
       "      <td>86.0</td>\n",
       "    </tr>\n",
       "    <tr>\n",
       "      <th>2023-06-19 13:53:26</th>\n",
       "      <td>0.13</td>\n",
       "      <td>15.19</td>\n",
       "      <td>86.0</td>\n",
       "    </tr>\n",
       "    <tr>\n",
       "      <th>2023-06-19 13:54:26</th>\n",
       "      <td>0.05</td>\n",
       "      <td>15.19</td>\n",
       "      <td>86.0</td>\n",
       "    </tr>\n",
       "    <tr>\n",
       "      <th>2023-06-19 13:55:27</th>\n",
       "      <td>0.02</td>\n",
       "      <td>15.18</td>\n",
       "      <td>86.0</td>\n",
       "    </tr>\n",
       "    <tr>\n",
       "      <th>2023-06-19 13:56:27</th>\n",
       "      <td>0.00</td>\n",
       "      <td>15.19</td>\n",
       "      <td>86.0</td>\n",
       "    </tr>\n",
       "  </tbody>\n",
       "</table>\n",
       "</div>"
      ],
      "text/plain": [
       "                      cpu  memory  storage\n",
       "timestamp                                 \n",
       "2023-06-19 13:52:26  0.00   15.18     86.0\n",
       "2023-06-19 13:53:26  0.13   15.19     86.0\n",
       "2023-06-19 13:54:26  0.05   15.19     86.0\n",
       "2023-06-19 13:55:27  0.02   15.18     86.0\n",
       "2023-06-19 13:56:27  0.00   15.19     86.0"
      ]
     },
     "execution_count": 19,
     "metadata": {},
     "output_type": "execute_result"
    }
   ],
   "source": [
    "pd_df_vm2.head()"
   ]
  },
  {
   "cell_type": "code",
   "execution_count": 20,
   "id": "c49b0bfc",
   "metadata": {},
   "outputs": [
    {
     "data": {
      "text/plain": [
       "Text(0.5, 1.0, 'Workload Features VM2')"
      ]
     },
     "execution_count": 20,
     "metadata": {},
     "output_type": "execute_result"
    },
    {
     "data": {
      "image/png": "[encoded data removed]",
      "text/plain": [
       "<Figure size 640x480 with 1 Axes>"
      ]
     },
     "metadata": {},
     "output_type": "display_data"
    }
   ],
   "source": [
    "plt.plot(pd_df_vm2['cpu'])\n",
    "plt.plot(pd_df_vm2['memory'])\n",
    "plt.plot(pd_df_vm2['storage'])\n",
    "plt.xlabel('Time')\n",
    "plt.ylabel('Percent')\n",
    "plt.legend(['cpu','memory','storage'])\n",
    "plt.title('Workload Features VM2')"
   ]
  },
  {
   "cell_type": "code",
   "execution_count": 21,
   "id": "fd55d3ac",
   "metadata": {},
   "outputs": [],
   "source": [
    "# rename columns of two dataframe since now they have the same column names\n",
    "n_vm = 2\n",
    "df_dict={}\n",
    "df_dict['vm1'] = pd_df_vm1\n",
    "df_dict['vm2'] = pd_df_vm2\n",
    "for i in range(0,n_vm):\n",
    "    df_dict['vm'+str(i+1)] = df_dict['vm'+str(i+1)].rename(columns={\"cpu\": \"cpu_vm\"+str(i+1), \"memory\": \"memory_vm\"+str(i+1),\"storage\": \"storage_vm\"+str(i+1)})"
   ]
  },
  {
   "cell_type": "code",
   "execution_count": 22,
   "id": "2530921f",
   "metadata": {},
   "outputs": [],
   "source": [
    "# join two time series using time stamp index union and sort the index of combined data frame according to time stamp\n",
    "combined_df = df_dict['vm1'].join(df_dict['vm2'],how='outer')"
   ]
  },
  {
   "cell_type": "code",
   "execution_count": 23,
   "id": "9f473a9d",
   "metadata": {},
   "outputs": [
    {
     "data": {
      "text/html": [
       "<div>\n",
       "<style scoped>\n",
       "    .dataframe tbody tr th:only-of-type {\n",
       "        vertical-align: middle;\n",
       "    }\n",
       "\n",
       "    .dataframe tbody tr th {\n",
       "        vertical-align: top;\n",
       "    }\n",
       "\n",
       "    .dataframe thead th {\n",
       "        text-align: right;\n",
       "    }\n",
       "</style>\n",
       "<table border=\"1\" class=\"dataframe\">\n",
       "  <thead>\n",
       "    <tr style=\"text-align: right;\">\n",
       "      <th></th>\n",
       "      <th>cpu_vm1</th>\n",
       "      <th>memory_vm1</th>\n",
       "      <th>storage_vm1</th>\n",
       "      <th>cpu_vm2</th>\n",
       "      <th>memory_vm2</th>\n",
       "      <th>storage_vm2</th>\n",
       "    </tr>\n",
       "    <tr>\n",
       "      <th>timestamp</th>\n",
       "      <th></th>\n",
       "      <th></th>\n",
       "      <th></th>\n",
       "      <th></th>\n",
       "      <th></th>\n",
       "      <th></th>\n",
       "    </tr>\n",
       "  </thead>\n",
       "  <tbody>\n",
       "    <tr>\n",
       "      <th>2023-06-06 19:52:17</th>\n",
       "      <td>0.12</td>\n",
       "      <td>36.06</td>\n",
       "      <td>25.0</td>\n",
       "      <td>NaN</td>\n",
       "      <td>NaN</td>\n",
       "      <td>NaN</td>\n",
       "    </tr>\n",
       "    <tr>\n",
       "      <th>2023-06-06 19:52:22</th>\n",
       "      <td>0.11</td>\n",
       "      <td>35.99</td>\n",
       "      <td>25.0</td>\n",
       "      <td>NaN</td>\n",
       "      <td>NaN</td>\n",
       "      <td>NaN</td>\n",
       "    </tr>\n",
       "    <tr>\n",
       "      <th>2023-06-06 19:52:27</th>\n",
       "      <td>0.10</td>\n",
       "      <td>35.99</td>\n",
       "      <td>25.0</td>\n",
       "      <td>NaN</td>\n",
       "      <td>NaN</td>\n",
       "      <td>NaN</td>\n",
       "    </tr>\n",
       "    <tr>\n",
       "      <th>2023-06-06 19:52:40</th>\n",
       "      <td>0.09</td>\n",
       "      <td>35.98</td>\n",
       "      <td>25.0</td>\n",
       "      <td>NaN</td>\n",
       "      <td>NaN</td>\n",
       "      <td>NaN</td>\n",
       "    </tr>\n",
       "    <tr>\n",
       "      <th>2023-06-06 19:52:45</th>\n",
       "      <td>0.07</td>\n",
       "      <td>35.98</td>\n",
       "      <td>25.0</td>\n",
       "      <td>NaN</td>\n",
       "      <td>NaN</td>\n",
       "      <td>NaN</td>\n",
       "    </tr>\n",
       "    <tr>\n",
       "      <th>...</th>\n",
       "      <td>...</td>\n",
       "      <td>...</td>\n",
       "      <td>...</td>\n",
       "      <td>...</td>\n",
       "      <td>...</td>\n",
       "      <td>...</td>\n",
       "    </tr>\n",
       "    <tr>\n",
       "      <th>2023-06-21 08:24:00</th>\n",
       "      <td>NaN</td>\n",
       "      <td>NaN</td>\n",
       "      <td>NaN</td>\n",
       "      <td>0.02</td>\n",
       "      <td>15.21</td>\n",
       "      <td>86.0</td>\n",
       "    </tr>\n",
       "    <tr>\n",
       "      <th>2023-06-21 08:25:00</th>\n",
       "      <td>NaN</td>\n",
       "      <td>NaN</td>\n",
       "      <td>NaN</td>\n",
       "      <td>0.01</td>\n",
       "      <td>15.21</td>\n",
       "      <td>86.0</td>\n",
       "    </tr>\n",
       "    <tr>\n",
       "      <th>2023-06-21 08:26:00</th>\n",
       "      <td>NaN</td>\n",
       "      <td>NaN</td>\n",
       "      <td>NaN</td>\n",
       "      <td>0.00</td>\n",
       "      <td>15.19</td>\n",
       "      <td>86.0</td>\n",
       "    </tr>\n",
       "    <tr>\n",
       "      <th>2023-06-21 08:27:00</th>\n",
       "      <td>NaN</td>\n",
       "      <td>NaN</td>\n",
       "      <td>NaN</td>\n",
       "      <td>0.00</td>\n",
       "      <td>15.21</td>\n",
       "      <td>86.0</td>\n",
       "    </tr>\n",
       "    <tr>\n",
       "      <th>2023-06-21 08:28:00</th>\n",
       "      <td>NaN</td>\n",
       "      <td>NaN</td>\n",
       "      <td>NaN</td>\n",
       "      <td>0.00</td>\n",
       "      <td>15.21</td>\n",
       "      <td>86.0</td>\n",
       "    </tr>\n",
       "  </tbody>\n",
       "</table>\n",
       "<p>21274 rows × 6 columns</p>\n",
       "</div>"
      ],
      "text/plain": [
       "                     cpu_vm1  memory_vm1  storage_vm1  cpu_vm2  memory_vm2  \\\n",
       "timestamp                                                                    \n",
       "2023-06-06 19:52:17     0.12       36.06         25.0      NaN         NaN   \n",
       "2023-06-06 19:52:22     0.11       35.99         25.0      NaN         NaN   \n",
       "2023-06-06 19:52:27     0.10       35.99         25.0      NaN         NaN   \n",
       "2023-06-06 19:52:40     0.09       35.98         25.0      NaN         NaN   \n",
       "2023-06-06 19:52:45     0.07       35.98         25.0      NaN         NaN   \n",
       "...                      ...         ...          ...      ...         ...   \n",
       "2023-06-21 08:24:00      NaN         NaN          NaN     0.02       15.21   \n",
       "2023-06-21 08:25:00      NaN         NaN          NaN     0.01       15.21   \n",
       "2023-06-21 08:26:00      NaN         NaN          NaN     0.00       15.19   \n",
       "2023-06-21 08:27:00      NaN         NaN          NaN     0.00       15.21   \n",
       "2023-06-21 08:28:00      NaN         NaN          NaN     0.00       15.21   \n",
       "\n",
       "                     storage_vm2  \n",
       "timestamp                         \n",
       "2023-06-06 19:52:17          NaN  \n",
       "2023-06-06 19:52:22          NaN  \n",
       "2023-06-06 19:52:27          NaN  \n",
       "2023-06-06 19:52:40          NaN  \n",
       "2023-06-06 19:52:45          NaN  \n",
       "...                          ...  \n",
       "2023-06-21 08:24:00         86.0  \n",
       "2023-06-21 08:25:00         86.0  \n",
       "2023-06-21 08:26:00         86.0  \n",
       "2023-06-21 08:27:00         86.0  \n",
       "2023-06-21 08:28:00         86.0  \n",
       "\n",
       "[21274 rows x 6 columns]"
      ]
     },
     "execution_count": 23,
     "metadata": {},
     "output_type": "execute_result"
    }
   ],
   "source": [
    "combined_df"
   ]
  },
  {
   "cell_type": "markdown",
   "id": "a9e828cb",
   "metadata": {},
   "source": [
    "# Convert pandas dataframe to spark dataframe"
   ]
  },
  {
   "cell_type": "code",
   "execution_count": 24,
   "id": "919a2dac",
   "metadata": {},
   "outputs": [
    {
     "data": {
      "text/plain": [
       "Index(['timestamp', 'cpu_vm1', 'memory_vm1', 'storage_vm1', 'cpu_vm2',\n",
       "       'memory_vm2', 'storage_vm2'],\n",
       "      dtype='object')"
      ]
     },
     "execution_count": 24,
     "metadata": {},
     "output_type": "execute_result"
    }
   ],
   "source": [
    "#convert index of pandas dataframe to a column\n",
    "combined_df_ = combined_df.reset_index()\n",
    "combined_df_.columns"
   ]
  },
  {
   "cell_type": "code",
   "execution_count": 25,
   "id": "2f646b41",
   "metadata": {},
   "outputs": [
    {
     "name": "stderr",
     "output_type": "stream",
     "text": [
      "/usr/local/lib/python3.9/dist-packages/pyspark/sql/pandas/conversion.py:371: FutureWarning: iteritems is deprecated and will be removed in a future version. Use .items instead.\n",
      "  for column, series in pdf.iteritems():\n"
     ]
    },
    {
     "name": "stdout",
     "output_type": "stream",
     "text": [
      "root\n",
      " |-- timestamp: timestamp (nullable = true)\n",
      " |-- cpu_vm1: double (nullable = true)\n",
      " |-- memory_vm1: double (nullable = true)\n",
      " |-- storage_vm1: double (nullable = true)\n",
      " |-- cpu_vm2: double (nullable = true)\n",
      " |-- memory_vm2: double (nullable = true)\n",
      " |-- storage_vm2: double (nullable = true)\n",
      "\n"
     ]
    },
    {
     "name": "stderr",
     "output_type": "stream",
     "text": [
      "\r",
      "[Stage 17:>                                                         (0 + 1) / 1]\r",
      "\r",
      "                                                                                \r"
     ]
    },
    {
     "name": "stdout",
     "output_type": "stream",
     "text": [
      "+-------------------+-------+----------+-----------+-------+----------+-----------+\n",
      "|          timestamp|cpu_vm1|memory_vm1|storage_vm1|cpu_vm2|memory_vm2|storage_vm2|\n",
      "+-------------------+-------+----------+-----------+-------+----------+-----------+\n",
      "|2023-06-06 19:52:17|   0.12|     36.06|       25.0|    NaN|       NaN|        NaN|\n",
      "|2023-06-06 19:52:22|   0.11|     35.99|       25.0|    NaN|       NaN|        NaN|\n",
      "|2023-06-06 19:52:27|    0.1|     35.99|       25.0|    NaN|       NaN|        NaN|\n",
      "|2023-06-06 19:52:40|   0.09|     35.98|       25.0|    NaN|       NaN|        NaN|\n",
      "|2023-06-06 19:52:45|   0.07|     35.98|       25.0|    NaN|       NaN|        NaN|\n",
      "|2023-06-06 19:52:50|   0.07|     35.97|       25.0|    NaN|       NaN|        NaN|\n",
      "|2023-06-06 19:52:55|   0.06|     36.03|       25.0|    NaN|       NaN|        NaN|\n",
      "|2023-06-06 19:53:00|   0.06|     35.99|       25.0|    NaN|       NaN|        NaN|\n",
      "|2023-06-06 19:53:06|   0.05|     35.99|       25.0|    NaN|       NaN|        NaN|\n",
      "|2023-06-06 19:53:11|   0.05|     35.99|       25.0|    NaN|       NaN|        NaN|\n",
      "|2023-06-06 19:53:16|   0.04|     35.99|       25.0|    NaN|       NaN|        NaN|\n",
      "|2023-06-06 19:53:21|   0.04|     35.99|       25.0|    NaN|       NaN|        NaN|\n",
      "|2023-06-06 19:53:26|   0.04|     35.99|       25.0|    NaN|       NaN|        NaN|\n",
      "|2023-06-06 19:53:32|   0.03|     35.99|       25.0|    NaN|       NaN|        NaN|\n",
      "|2023-06-06 19:53:37|   0.03|     35.99|       25.0|    NaN|       NaN|        NaN|\n",
      "|2023-06-06 19:53:42|   0.03|     35.99|       25.0|    NaN|       NaN|        NaN|\n",
      "|2023-06-06 19:53:47|   0.02|     35.99|       25.0|    NaN|       NaN|        NaN|\n",
      "|2023-06-06 19:53:52|   0.02|     35.99|       25.0|    NaN|       NaN|        NaN|\n",
      "|2023-06-06 19:53:58|   0.02|     35.99|       25.0|    NaN|       NaN|        NaN|\n",
      "|2023-06-06 19:54:03|   0.02|     35.99|       25.0|    NaN|       NaN|        NaN|\n",
      "+-------------------+-------+----------+-----------+-------+----------+-----------+\n",
      "only showing top 20 rows\n",
      "\n"
     ]
    },
    {
     "name": "stderr",
     "output_type": "stream",
     "text": [
      "                                                                                \r"
     ]
    }
   ],
   "source": [
    "#Create PySpark DataFrame from Pandas\n",
    "sparkDF=spark.createDataFrame(combined_df_) \n",
    "sparkDF.printSchema()\n",
    "sparkDF.show()\n",
    "#store it to spark warehourse \n",
    "sparkDF.write.mode('overwrite').saveAsTable(\"mondb.bronze_vmlog_join\")"
   ]
  },
  {
   "cell_type": "code",
   "execution_count": null,
   "id": "1214a626",
   "metadata": {},
   "outputs": [],
   "source": [
    "exit()"
   ]
  }
 ],
 "metadata": {
  "kernelspec": {
   "display_name": "Python 3 (ipykernel)",
   "language": "python",
   "name": "python3"
  },
  "language_info": {
   "codemirror_mode": {
    "name": "ipython",
    "version": 3
   },
   "file_extension": ".py",
   "mimetype": "text/x-python",
   "name": "python",
   "nbconvert_exporter": "python",
   "pygments_lexer": "ipython3",
   "version": "3.9.2"
  }
 },
 "nbformat": 4,
 "nbformat_minor": 5
}
