{
 "cells": [
  {
   "cell_type": "code",
   "execution_count": null,
   "id": "653230a3",
   "metadata": {},
   "outputs": [],
   "source": [
    "from kafka import KafkaConsumer\n",
    "import json\n",
    "\n",
    "# Getting the data as JSON\n",
    "consumer = KafkaConsumer('output-join-stat',\n",
    "bootstrap_servers=['kafka:9092'],\n",
    "value_deserializer=lambda m: json.loads(m.decode('ascii')),\n",
    "auto_offset_reset='earliest')\n",
    "\n",
    "\n",
    "for message in consumer:\n",
    "    price = (message.value)\n",
    "    price"
   ]
  },
  {
   "cell_type": "code",
   "execution_count": null,
   "id": "cb3c4ce1",
   "metadata": {},
   "outputs": [],
   "source": []
  }
 ],
 "metadata": {
  "kernelspec": {
   "display_name": "Python 3 (ipykernel)",
   "language": "python",
   "name": "python3"
  },
  "language_info": {
   "codemirror_mode": {
    "name": "ipython",
    "version": 3
   },
   "file_extension": ".py",
   "mimetype": "text/x-python",
   "name": "python",
   "nbconvert_exporter": "python",
   "pygments_lexer": "ipython3",
   "version": "3.9.2"
  }
 },
 "nbformat": 4,
 "nbformat_minor": 5
}
